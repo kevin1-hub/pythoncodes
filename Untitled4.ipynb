{
  "nbformat": 4,
  "nbformat_minor": 0,
  "metadata": {
    "colab": {
      "provenance": [],
      "mount_file_id": "1YShHXCFtLMclCqrtxRQIPoSqRksViJZr",
      "authorship_tag": "ABX9TyPJSzQRmxum+y3DzByqhIz+",
      "include_colab_link": true
    },
    "kernelspec": {
      "name": "python3",
      "display_name": "Python 3"
    },
    "language_info": {
      "name": "python"
    }
  },
  "cells": [
    {
      "cell_type": "markdown",
      "metadata": {
        "id": "view-in-github",
        "colab_type": "text"
      },
      "source": [
        "<a href=\"https://colab.research.google.com/github/kevin1-hub/pythoncodes/blob/main/Untitled4.ipynb\" target=\"_parent\"><img src=\"https://colab.research.google.com/assets/colab-badge.svg\" alt=\"Open In Colab\"/></a>"
      ]
    },
    {
      "cell_type": "code",
      "execution_count": null,
      "metadata": {
        "colab": {
          "base_uri": "https://localhost:8080/"
        },
        "id": "R-gCls2ZbZ1H",
        "outputId": "5f925ed8-37ec-4a89-91f5-feeb7bd4eac3"
      },
      "outputs": [
        {
          "output_type": "stream",
          "name": "stdout",
          "text": [
            "Drive already mounted at /content/drive; to attempt to forcibly remount, call drive.mount(\"/content/drive\", force_remount=True).\n",
            "Initial Data Preview:\n",
            "   Pregnancies  Glucose  BloodPressure  SkinThickness  Insulin   BMI  \\\n",
            "0            6      148             72             35        0  33.6   \n",
            "1            1       85             66             29        0  26.6   \n",
            "2            8      183             64              0        0  23.3   \n",
            "3            1       89             66             23       94  28.1   \n",
            "4            0      137             40             35      168  43.1   \n",
            "\n",
            "   DiabetesPedigreeFunction  Age  Outcome  \n",
            "0                     0.627   50        1  \n",
            "1                     0.351   31        0  \n",
            "2                     0.672   32        1  \n",
            "3                     0.167   21        0  \n",
            "4                     2.288   33        1  \n",
            "\n",
            "Data After Replacing Invalid Zeros with NaNs:\n",
            "   Glucose  BloodPressure  SkinThickness  Insulin   BMI\n",
            "0    148.0           72.0           35.0      NaN  33.6\n",
            "1     85.0           66.0           29.0      NaN  26.6\n",
            "2    183.0           64.0            NaN      NaN  23.3\n",
            "3     89.0           66.0           23.0     94.0  28.1\n",
            "4    137.0           40.0           35.0    168.0  43.1\n"
          ]
        }
      ],
      "source": [
        "import pandas as pd\n",
        "import numpy as np\n",
        "from google.colab import drive\n",
        "\n",
        "# Mount Google Drive\n",
        "drive.mount('/content/drive')\n",
        "\n",
        "# Load the dataset\n",
        "file_path = '/content/drive/MyDrive/diabetes.csv'\n",
        "data = pd.read_csv(file_path)\n",
        "\n",
        "# Inspect the first few rows of the dataset\n",
        "print(\"Initial Data Preview:\")\n",
        "print(data.head())\n",
        "\n",
        "# Identify columns with invalid zeros\n",
        "cols_with_invalid_zeros = ['Glucose', 'BloodPressure', 'SkinThickness', 'Insulin', 'BMI']\n",
        "\n",
        "# Replace zeros with NaNs\n",
        "data[cols_with_invalid_zeros] = data[cols_with_invalid_zeros].replace({0: np.nan})\n",
        "\n",
        "# Verify that zeros are replaced with NaNs\n",
        "print(\"\\nData After Replacing Invalid Zeros with NaNs:\")\n",
        "print(data[cols_with_invalid_zeros].head())\n"
      ]
    },
    {
      "cell_type": "markdown",
      "source": [],
      "metadata": {
        "id": "UI9IYZxRwPHI"
      }
    },
    {
      "cell_type": "code",
      "source": [
        "import pandas as pd\n",
        "import numpy as np\n",
        "from google.colab import drive\n",
        "\n",
        "# Mount Google Drive\n",
        "drive.mount('/content/drive')\n",
        "\n",
        "# Load the dataset\n",
        "file_path = '/content/drive/MyDrive/diabetes.csv'\n",
        "data = pd.read_csv(file_path)\n",
        "\n",
        "# Inspect the first few rows of the dataset\n",
        "print(\"Initial Data Preview:\")\n",
        "print(data.head())\n",
        "\n",
        "# Identify columns with invalid zeros\n",
        "cols_with_invalid_zeros = ['Glucose', 'BloodPressure', 'SkinThickness', 'Insulin', 'BMI']\n",
        "\n",
        "# Replace zeros with NaNs\n",
        "data[cols_with_invalid_zeros] = data[cols_with_invalid_zeros].replace({0: np.nan})\n",
        "\n",
        "# Verify that zeros are replaced with NaNs\n",
        "print(\"\\nData After Replacing Invalid Zeros with NaNs:\")\n",
        "print(data[cols_with_invalid_zeros].head())\n",
        "\n",
        "# Fill NaNs with the median value of each column\n",
        "data[cols_with_invalid_zeros] = data[cols_with_invalid_zeros].fillna(data[cols_with_invalid_zeros].median())\n",
        "\n",
        "# Verify that NaNs are filled\n",
        "print(\"\\nData After Filling NaNs with Median Values:\")\n",
        "print(data[cols_with_invalid_zeros].head())\n"
      ],
      "metadata": {
        "colab": {
          "base_uri": "https://localhost:8080/"
        },
        "id": "JafKYWMywbGW",
        "outputId": "ec8650e6-3576-47ce-9ec9-819d1c72378b"
      },
      "execution_count": null,
      "outputs": [
        {
          "output_type": "stream",
          "name": "stdout",
          "text": [
            "Drive already mounted at /content/drive; to attempt to forcibly remount, call drive.mount(\"/content/drive\", force_remount=True).\n",
            "Initial Data Preview:\n",
            "   Pregnancies  Glucose  BloodPressure  SkinThickness  Insulin   BMI  \\\n",
            "0            6      148             72             35        0  33.6   \n",
            "1            1       85             66             29        0  26.6   \n",
            "2            8      183             64              0        0  23.3   \n",
            "3            1       89             66             23       94  28.1   \n",
            "4            0      137             40             35      168  43.1   \n",
            "\n",
            "   DiabetesPedigreeFunction  Age  Outcome  \n",
            "0                     0.627   50        1  \n",
            "1                     0.351   31        0  \n",
            "2                     0.672   32        1  \n",
            "3                     0.167   21        0  \n",
            "4                     2.288   33        1  \n",
            "\n",
            "Data After Replacing Invalid Zeros with NaNs:\n",
            "   Glucose  BloodPressure  SkinThickness  Insulin   BMI\n",
            "0    148.0           72.0           35.0      NaN  33.6\n",
            "1     85.0           66.0           29.0      NaN  26.6\n",
            "2    183.0           64.0            NaN      NaN  23.3\n",
            "3     89.0           66.0           23.0     94.0  28.1\n",
            "4    137.0           40.0           35.0    168.0  43.1\n",
            "\n",
            "Data After Filling NaNs with Median Values:\n",
            "   Glucose  BloodPressure  SkinThickness  Insulin   BMI\n",
            "0    148.0           72.0           35.0    125.0  33.6\n",
            "1     85.0           66.0           29.0    125.0  26.6\n",
            "2    183.0           64.0           29.0    125.0  23.3\n",
            "3     89.0           66.0           23.0     94.0  28.1\n",
            "4    137.0           40.0           35.0    168.0  43.1\n"
          ]
        }
      ]
    },
    {
      "cell_type": "code",
      "source": [
        "import pandas as pd\n",
        "import numpy as np\n",
        "from sklearn.model_selection import KFold, cross_val_score\n",
        "from sklearn.neighbors import KNeighborsClassifier\n",
        "from sklearn.tree import DecisionTreeClassifier\n",
        "from sklearn.preprocessing import StandardScaler\n",
        "from google.colab import drive\n",
        "\n",
        "# Mount Google Drive\n",
        "drive.mount('/content/drive')\n",
        "\n",
        "# Load the dataset\n",
        "file_path = '/content/drive/MyDrive/diabetes.csv'\n",
        "data = pd.read_csv(file_path)\n",
        "\n",
        "# Identify columns with invalid zeros\n",
        "cols_with_invalid_zeros = ['Glucose', 'BloodPressure', 'SkinThickness', 'Insulin', 'BMI']\n",
        "\n",
        "# Replace zeros with NaNs\n",
        "data[cols_with_invalid_zeros] = data[cols_with_invalid_zeros].replace({0: np.nan})\n",
        "\n",
        "# Fill NaNs with the median value of each column\n",
        "data[cols_with_invalid_zeros] = data[cols_with_invalid_zeros].fillna(data[cols_with_invalid_zeros].median())\n",
        "\n",
        "# Separate the dataset into features (X) and target (y)\n",
        "X = data.drop(columns=['Outcome'])\n",
        "y = data['Outcome']\n",
        "\n",
        "# Standardize the features\n",
        "scaler = StandardScaler()\n",
        "X_scaled = scaler.fit_transform(X)\n",
        "\n",
        "# Define the k-fold cross-validator\n",
        "kf = KFold(n_splits=5, shuffle=True, random_state=1)\n",
        "\n",
        "# Define the KNN and Decision Tree classifiers\n",
        "knn = KNeighborsClassifier()\n",
        "dt = DecisionTreeClassifier()\n",
        "\n",
        "# Perform k-fold cross-validation for KNN\n",
        "knn_scores = cross_val_score(knn, X_scaled, y, cv=kf)\n",
        "print(f'KNN Cross-Validation Scores: {knn_scores}')\n",
        "print(f'KNN Average Score: {knn_scores.mean()}')\n",
        "\n",
        "# Perform k-fold cross-validation for Decision Tree\n",
        "dt_scores = cross_val_score(dt, X, y, cv=kf)\n",
        "print(f'Decision Tree Cross-Validation Scores: {dt_scores}')\n",
        "print(f'Decision Tree Average Score: {dt_scores.mean()}')"
      ],
      "metadata": {
        "colab": {
          "base_uri": "https://localhost:8080/"
        },
        "id": "GbF0A0UCwyxX",
        "outputId": "5923b377-b166-4942-8950-6430a8d4083f"
      },
      "execution_count": null,
      "outputs": [
        {
          "output_type": "stream",
          "name": "stdout",
          "text": [
            "Drive already mounted at /content/drive; to attempt to forcibly remount, call drive.mount(\"/content/drive\", force_remount=True).\n",
            "KNN Cross-Validation Scores: [0.7987013  0.74025974 0.69480519 0.77777778 0.73202614]\n",
            "KNN Average Score: 0.7487140310669722\n",
            "Decision Tree Cross-Validation Scores: [0.67532468 0.7012987  0.68181818 0.71895425 0.7124183 ]\n",
            "Decision Tree Average Score: 0.6979628214922333\n"
          ]
        }
      ]
    }
  ]
}